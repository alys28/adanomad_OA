{
 "cells": [
  {
   "cell_type": "code",
   "execution_count": 60,
   "metadata": {},
   "outputs": [],
   "source": [
    "import tensorflow as tf\n",
    "from tensorflow.keras.layers import Dense, Dropout\n",
    "from tensorflow.keras import Sequential\n",
    "import numpy as np\n",
    "import keras\n",
    "import pandas as pd\n",
    "from sklearn.preprocessing import LabelEncoder\n",
    "from sklearn.model_selection import train_test_split\n",
    "from sklearn.preprocessing import normalize\n",
    "from sklearn import metrics"
   ]
  },
  {
   "cell_type": "code",
   "execution_count": 11,
   "metadata": {},
   "outputs": [],
   "source": [
    "# Global Variables\n",
    "dataset_file = \"formatted_data.json\"\n",
    "labels = ['standing',\n",
    " 'open_guard',\n",
    " '5050_guard',\n",
    " 'turtle',\n",
    " 'back']"
   ]
  },
  {
   "cell_type": "code",
   "execution_count": 13,
   "metadata": {},
   "outputs": [],
   "source": [
    "# Convert the JSON entries into a single pandas dataframe, and manipulate the DF to obtain a desirable format\n",
    "def get_df(dataset_file):    \n",
    "    df = pd.read_json(dataset_file)\n",
    "    num_coords = len(df['pose'][0])\n",
    "\n",
    "    # Create new columns for each x and y coordinate (x1, y1, x2, y2, ...)\n",
    "    for i in range(num_coords):\n",
    "        df[f'x{i+1}'] = df['pose'].apply(lambda pose: pose[i][0] if i < len(pose) else None)\n",
    "        df[f'y{i+1}'] = df['pose'].apply(lambda pose: pose[i][1] if i < len(pose) else None)\n",
    "\n",
    "    # Drop irrelevant columns\n",
    "    df.drop('pose', axis=1, inplace=True)\n",
    "    df.drop('image', axis=1, inplace=True)\n",
    "    df.drop('frame', axis=1, inplace=True)\n",
    "    # print(df)\n",
    "    return df"
   ]
  },
  {
   "cell_type": "code",
   "execution_count": 15,
   "metadata": {},
   "outputs": [
    {
     "data": {
      "text/html": [
       "<div>\n",
       "<style scoped>\n",
       "    .dataframe tbody tr th:only-of-type {\n",
       "        vertical-align: middle;\n",
       "    }\n",
       "\n",
       "    .dataframe tbody tr th {\n",
       "        vertical-align: top;\n",
       "    }\n",
       "\n",
       "    .dataframe thead th {\n",
       "        text-align: right;\n",
       "    }\n",
       "</style>\n",
       "<table border=\"1\" class=\"dataframe\">\n",
       "  <thead>\n",
       "    <tr style=\"text-align: right;\">\n",
       "      <th></th>\n",
       "      <th>position</th>\n",
       "      <th>x1</th>\n",
       "      <th>y1</th>\n",
       "      <th>x2</th>\n",
       "      <th>y2</th>\n",
       "      <th>x3</th>\n",
       "      <th>y3</th>\n",
       "      <th>x4</th>\n",
       "      <th>y4</th>\n",
       "      <th>x5</th>\n",
       "      <th>...</th>\n",
       "      <th>x30</th>\n",
       "      <th>y30</th>\n",
       "      <th>x31</th>\n",
       "      <th>y31</th>\n",
       "      <th>x32</th>\n",
       "      <th>y32</th>\n",
       "      <th>x33</th>\n",
       "      <th>y33</th>\n",
       "      <th>x34</th>\n",
       "      <th>y34</th>\n",
       "    </tr>\n",
       "  </thead>\n",
       "  <tbody>\n",
       "    <tr>\n",
       "      <th>0</th>\n",
       "      <td>standing</td>\n",
       "      <td>449.349365</td>\n",
       "      <td>223.624634</td>\n",
       "      <td>456.961548</td>\n",
       "      <td>216.427673</td>\n",
       "      <td>444.425171</td>\n",
       "      <td>216.028137</td>\n",
       "      <td>466.959351</td>\n",
       "      <td>223.409119</td>\n",
       "      <td>434.879883</td>\n",
       "      <td>...</td>\n",
       "      <td>0.000000</td>\n",
       "      <td>0.000000</td>\n",
       "      <td>0.000000</td>\n",
       "      <td>0.000000</td>\n",
       "      <td>0.000000</td>\n",
       "      <td>0.000000</td>\n",
       "      <td>0.000000</td>\n",
       "      <td>0.000000</td>\n",
       "      <td>0.000000</td>\n",
       "      <td>0.000000</td>\n",
       "    </tr>\n",
       "    <tr>\n",
       "      <th>1</th>\n",
       "      <td>standing</td>\n",
       "      <td>443.377197</td>\n",
       "      <td>223.846436</td>\n",
       "      <td>451.321045</td>\n",
       "      <td>217.219055</td>\n",
       "      <td>438.394043</td>\n",
       "      <td>216.226257</td>\n",
       "      <td>463.229004</td>\n",
       "      <td>224.034424</td>\n",
       "      <td>431.129883</td>\n",
       "      <td>...</td>\n",
       "      <td>0.000000</td>\n",
       "      <td>0.000000</td>\n",
       "      <td>0.000000</td>\n",
       "      <td>0.000000</td>\n",
       "      <td>0.000000</td>\n",
       "      <td>0.000000</td>\n",
       "      <td>0.000000</td>\n",
       "      <td>0.000000</td>\n",
       "      <td>0.000000</td>\n",
       "      <td>0.000000</td>\n",
       "    </tr>\n",
       "    <tr>\n",
       "      <th>2</th>\n",
       "      <td>standing</td>\n",
       "      <td>594.297363</td>\n",
       "      <td>60.158508</td>\n",
       "      <td>576.469116</td>\n",
       "      <td>40.562195</td>\n",
       "      <td>607.318970</td>\n",
       "      <td>51.291992</td>\n",
       "      <td>549.377075</td>\n",
       "      <td>28.328278</td>\n",
       "      <td>613.462036</td>\n",
       "      <td>...</td>\n",
       "      <td>755.884277</td>\n",
       "      <td>406.299957</td>\n",
       "      <td>801.395630</td>\n",
       "      <td>499.354401</td>\n",
       "      <td>758.033936</td>\n",
       "      <td>492.391144</td>\n",
       "      <td>789.932983</td>\n",
       "      <td>594.360718</td>\n",
       "      <td>753.618286</td>\n",
       "      <td>589.568604</td>\n",
       "    </tr>\n",
       "    <tr>\n",
       "      <th>3</th>\n",
       "      <td>standing</td>\n",
       "      <td>579.405457</td>\n",
       "      <td>62.072754</td>\n",
       "      <td>572.580750</td>\n",
       "      <td>49.764130</td>\n",
       "      <td>606.023987</td>\n",
       "      <td>58.297852</td>\n",
       "      <td>550.683899</td>\n",
       "      <td>41.569580</td>\n",
       "      <td>615.616150</td>\n",
       "      <td>...</td>\n",
       "      <td>747.440430</td>\n",
       "      <td>406.749695</td>\n",
       "      <td>792.947021</td>\n",
       "      <td>503.983276</td>\n",
       "      <td>746.057861</td>\n",
       "      <td>499.627625</td>\n",
       "      <td>782.905518</td>\n",
       "      <td>592.864075</td>\n",
       "      <td>742.696411</td>\n",
       "      <td>593.890076</td>\n",
       "    </tr>\n",
       "    <tr>\n",
       "      <th>4</th>\n",
       "      <td>standing</td>\n",
       "      <td>565.223145</td>\n",
       "      <td>57.397522</td>\n",
       "      <td>560.387817</td>\n",
       "      <td>42.238434</td>\n",
       "      <td>587.298218</td>\n",
       "      <td>50.054932</td>\n",
       "      <td>536.931885</td>\n",
       "      <td>37.376099</td>\n",
       "      <td>598.540039</td>\n",
       "      <td>...</td>\n",
       "      <td>733.460876</td>\n",
       "      <td>406.243835</td>\n",
       "      <td>778.929565</td>\n",
       "      <td>502.984619</td>\n",
       "      <td>732.014221</td>\n",
       "      <td>496.920776</td>\n",
       "      <td>769.380493</td>\n",
       "      <td>593.294312</td>\n",
       "      <td>727.832336</td>\n",
       "      <td>594.526489</td>\n",
       "    </tr>\n",
       "  </tbody>\n",
       "</table>\n",
       "<p>5 rows × 69 columns</p>\n",
       "</div>"
      ],
      "text/plain": [
       "   position          x1          y1          x2          y2          x3  \\\n",
       "0  standing  449.349365  223.624634  456.961548  216.427673  444.425171   \n",
       "1  standing  443.377197  223.846436  451.321045  217.219055  438.394043   \n",
       "2  standing  594.297363   60.158508  576.469116   40.562195  607.318970   \n",
       "3  standing  579.405457   62.072754  572.580750   49.764130  606.023987   \n",
       "4  standing  565.223145   57.397522  560.387817   42.238434  587.298218   \n",
       "\n",
       "           y3          x4          y4          x5  ...         x30  \\\n",
       "0  216.028137  466.959351  223.409119  434.879883  ...    0.000000   \n",
       "1  216.226257  463.229004  224.034424  431.129883  ...    0.000000   \n",
       "2   51.291992  549.377075   28.328278  613.462036  ...  755.884277   \n",
       "3   58.297852  550.683899   41.569580  615.616150  ...  747.440430   \n",
       "4   50.054932  536.931885   37.376099  598.540039  ...  733.460876   \n",
       "\n",
       "          y30         x31         y31         x32         y32         x33  \\\n",
       "0    0.000000    0.000000    0.000000    0.000000    0.000000    0.000000   \n",
       "1    0.000000    0.000000    0.000000    0.000000    0.000000    0.000000   \n",
       "2  406.299957  801.395630  499.354401  758.033936  492.391144  789.932983   \n",
       "3  406.749695  792.947021  503.983276  746.057861  499.627625  782.905518   \n",
       "4  406.243835  778.929565  502.984619  732.014221  496.920776  769.380493   \n",
       "\n",
       "          y33         x34         y34  \n",
       "0    0.000000    0.000000    0.000000  \n",
       "1    0.000000    0.000000    0.000000  \n",
       "2  594.360718  753.618286  589.568604  \n",
       "3  592.864075  742.696411  593.890076  \n",
       "4  593.294312  727.832336  594.526489  \n",
       "\n",
       "[5 rows x 69 columns]"
      ]
     },
     "execution_count": 15,
     "metadata": {},
     "output_type": "execute_result"
    }
   ],
   "source": [
    "df = get_df(dataset_file)\n",
    "df.head(n=5)\n"
   ]
  },
  {
   "cell_type": "code",
   "execution_count": 45,
   "metadata": {},
   "outputs": [
    {
     "name": "stdout",
     "output_type": "stream",
     "text": [
      "(69781, 68) <class 'numpy.ndarray'>\n",
      "(69781,) <class 'numpy.ndarray'>\n"
     ]
    }
   ],
   "source": [
    "def seperate_label(df):\n",
    "    '''\n",
    "    Seperate labels from features and convert into numpy arrays AND normalize features\n",
    "    '''\n",
    "    df_features = df.copy() #x1,y1,x2,y2,x3,y3,...\n",
    "\n",
    "    df_labels = df_features.pop(\"position\") \n",
    "    df_features = np.array(df_features)\n",
    "    df_labels = np.array(df_labels)\n",
    "    print(df_features.shape, type(df_features))\n",
    "    print(df_labels.shape, type(df_labels))\n",
    "    return normalize(df_features), df_labels # Applying L2 Normalization from SKLearn to dataset\n",
    "\n",
    "np_features, np_labels = seperate_label(df)"
   ]
  },
  {
   "cell_type": "code",
   "execution_count": 46,
   "metadata": {},
   "outputs": [
    {
     "data": {
      "text/plain": [
       "array(['5050_guard', 'back', 'open_guard', 'standing', 'turtle'],\n",
       "      dtype=object)"
      ]
     },
     "execution_count": 46,
     "metadata": {},
     "output_type": "execute_result"
    }
   ],
   "source": [
    "# Conver labels into numbers using SKLearn LabelEncoder\n",
    "le = LabelEncoder()\n",
    "# Using .fit_transform function to fit label\n",
    "# encoder and return encoded label\n",
    "np_labels = le.fit_transform(np_labels)\n",
    " \n",
    "# printing labels\n",
    "le.classes_\n",
    "# Output: array(['5050_guard', 'back', 'open_guard', 'standing', 'turtle'], dtype=object)"
   ]
  },
  {
   "cell_type": "code",
   "execution_count": 114,
   "metadata": {},
   "outputs": [
    {
     "data": {
      "text/plain": [
       "(68,)"
      ]
     },
     "execution_count": 114,
     "metadata": {},
     "output_type": "execute_result"
    }
   ],
   "source": [
    "# Split dataset (25% for testing)\n",
    "X_train, X_test, y_train, y_test = train_test_split(np_features, np_labels, test_size=0.25, random_state=42)\n",
    "X_train[0].shape # we have the correct shape"
   ]
  },
  {
   "cell_type": "markdown",
   "metadata": {},
   "source": [
    "## Approach 1 - KNN Classifier"
   ]
  },
  {
   "cell_type": "code",
   "execution_count": 49,
   "metadata": {},
   "outputs": [
    {
     "data": {
      "text/html": [
       "<style>#sk-container-id-2 {\n",
       "  /* Definition of color scheme common for light and dark mode */\n",
       "  --sklearn-color-text: black;\n",
       "  --sklearn-color-line: gray;\n",
       "  /* Definition of color scheme for unfitted estimators */\n",
       "  --sklearn-color-unfitted-level-0: #fff5e6;\n",
       "  --sklearn-color-unfitted-level-1: #f6e4d2;\n",
       "  --sklearn-color-unfitted-level-2: #ffe0b3;\n",
       "  --sklearn-color-unfitted-level-3: chocolate;\n",
       "  /* Definition of color scheme for fitted estimators */\n",
       "  --sklearn-color-fitted-level-0: #f0f8ff;\n",
       "  --sklearn-color-fitted-level-1: #d4ebff;\n",
       "  --sklearn-color-fitted-level-2: #b3dbfd;\n",
       "  --sklearn-color-fitted-level-3: cornflowerblue;\n",
       "\n",
       "  /* Specific color for light theme */\n",
       "  --sklearn-color-text-on-default-background: var(--sg-text-color, var(--theme-code-foreground, var(--jp-content-font-color1, black)));\n",
       "  --sklearn-color-background: var(--sg-background-color, var(--theme-background, var(--jp-layout-color0, white)));\n",
       "  --sklearn-color-border-box: var(--sg-text-color, var(--theme-code-foreground, var(--jp-content-font-color1, black)));\n",
       "  --sklearn-color-icon: #696969;\n",
       "\n",
       "  @media (prefers-color-scheme: dark) {\n",
       "    /* Redefinition of color scheme for dark theme */\n",
       "    --sklearn-color-text-on-default-background: var(--sg-text-color, var(--theme-code-foreground, var(--jp-content-font-color1, white)));\n",
       "    --sklearn-color-background: var(--sg-background-color, var(--theme-background, var(--jp-layout-color0, #111)));\n",
       "    --sklearn-color-border-box: var(--sg-text-color, var(--theme-code-foreground, var(--jp-content-font-color1, white)));\n",
       "    --sklearn-color-icon: #878787;\n",
       "  }\n",
       "}\n",
       "\n",
       "#sk-container-id-2 {\n",
       "  color: var(--sklearn-color-text);\n",
       "}\n",
       "\n",
       "#sk-container-id-2 pre {\n",
       "  padding: 0;\n",
       "}\n",
       "\n",
       "#sk-container-id-2 input.sk-hidden--visually {\n",
       "  border: 0;\n",
       "  clip: rect(1px 1px 1px 1px);\n",
       "  clip: rect(1px, 1px, 1px, 1px);\n",
       "  height: 1px;\n",
       "  margin: -1px;\n",
       "  overflow: hidden;\n",
       "  padding: 0;\n",
       "  position: absolute;\n",
       "  width: 1px;\n",
       "}\n",
       "\n",
       "#sk-container-id-2 div.sk-dashed-wrapped {\n",
       "  border: 1px dashed var(--sklearn-color-line);\n",
       "  margin: 0 0.4em 0.5em 0.4em;\n",
       "  box-sizing: border-box;\n",
       "  padding-bottom: 0.4em;\n",
       "  background-color: var(--sklearn-color-background);\n",
       "}\n",
       "\n",
       "#sk-container-id-2 div.sk-container {\n",
       "  /* jupyter's `normalize.less` sets `[hidden] { display: none; }`\n",
       "     but bootstrap.min.css set `[hidden] { display: none !important; }`\n",
       "     so we also need the `!important` here to be able to override the\n",
       "     default hidden behavior on the sphinx rendered scikit-learn.org.\n",
       "     See: https://github.com/scikit-learn/scikit-learn/issues/21755 */\n",
       "  display: inline-block !important;\n",
       "  position: relative;\n",
       "}\n",
       "\n",
       "#sk-container-id-2 div.sk-text-repr-fallback {\n",
       "  display: none;\n",
       "}\n",
       "\n",
       "div.sk-parallel-item,\n",
       "div.sk-serial,\n",
       "div.sk-item {\n",
       "  /* draw centered vertical line to link estimators */\n",
       "  background-image: linear-gradient(var(--sklearn-color-text-on-default-background), var(--sklearn-color-text-on-default-background));\n",
       "  background-size: 2px 100%;\n",
       "  background-repeat: no-repeat;\n",
       "  background-position: center center;\n",
       "}\n",
       "\n",
       "/* Parallel-specific style estimator block */\n",
       "\n",
       "#sk-container-id-2 div.sk-parallel-item::after {\n",
       "  content: \"\";\n",
       "  width: 100%;\n",
       "  border-bottom: 2px solid var(--sklearn-color-text-on-default-background);\n",
       "  flex-grow: 1;\n",
       "}\n",
       "\n",
       "#sk-container-id-2 div.sk-parallel {\n",
       "  display: flex;\n",
       "  align-items: stretch;\n",
       "  justify-content: center;\n",
       "  background-color: var(--sklearn-color-background);\n",
       "  position: relative;\n",
       "}\n",
       "\n",
       "#sk-container-id-2 div.sk-parallel-item {\n",
       "  display: flex;\n",
       "  flex-direction: column;\n",
       "}\n",
       "\n",
       "#sk-container-id-2 div.sk-parallel-item:first-child::after {\n",
       "  align-self: flex-end;\n",
       "  width: 50%;\n",
       "}\n",
       "\n",
       "#sk-container-id-2 div.sk-parallel-item:last-child::after {\n",
       "  align-self: flex-start;\n",
       "  width: 50%;\n",
       "}\n",
       "\n",
       "#sk-container-id-2 div.sk-parallel-item:only-child::after {\n",
       "  width: 0;\n",
       "}\n",
       "\n",
       "/* Serial-specific style estimator block */\n",
       "\n",
       "#sk-container-id-2 div.sk-serial {\n",
       "  display: flex;\n",
       "  flex-direction: column;\n",
       "  align-items: center;\n",
       "  background-color: var(--sklearn-color-background);\n",
       "  padding-right: 1em;\n",
       "  padding-left: 1em;\n",
       "}\n",
       "\n",
       "\n",
       "/* Toggleable style: style used for estimator/Pipeline/ColumnTransformer box that is\n",
       "clickable and can be expanded/collapsed.\n",
       "- Pipeline and ColumnTransformer use this feature and define the default style\n",
       "- Estimators will overwrite some part of the style using the `sk-estimator` class\n",
       "*/\n",
       "\n",
       "/* Pipeline and ColumnTransformer style (default) */\n",
       "\n",
       "#sk-container-id-2 div.sk-toggleable {\n",
       "  /* Default theme specific background. It is overwritten whether we have a\n",
       "  specific estimator or a Pipeline/ColumnTransformer */\n",
       "  background-color: var(--sklearn-color-background);\n",
       "}\n",
       "\n",
       "/* Toggleable label */\n",
       "#sk-container-id-2 label.sk-toggleable__label {\n",
       "  cursor: pointer;\n",
       "  display: block;\n",
       "  width: 100%;\n",
       "  margin-bottom: 0;\n",
       "  padding: 0.5em;\n",
       "  box-sizing: border-box;\n",
       "  text-align: center;\n",
       "}\n",
       "\n",
       "#sk-container-id-2 label.sk-toggleable__label-arrow:before {\n",
       "  /* Arrow on the left of the label */\n",
       "  content: \"▸\";\n",
       "  float: left;\n",
       "  margin-right: 0.25em;\n",
       "  color: var(--sklearn-color-icon);\n",
       "}\n",
       "\n",
       "#sk-container-id-2 label.sk-toggleable__label-arrow:hover:before {\n",
       "  color: var(--sklearn-color-text);\n",
       "}\n",
       "\n",
       "/* Toggleable content - dropdown */\n",
       "\n",
       "#sk-container-id-2 div.sk-toggleable__content {\n",
       "  max-height: 0;\n",
       "  max-width: 0;\n",
       "  overflow: hidden;\n",
       "  text-align: left;\n",
       "  /* unfitted */\n",
       "  background-color: var(--sklearn-color-unfitted-level-0);\n",
       "}\n",
       "\n",
       "#sk-container-id-2 div.sk-toggleable__content.fitted {\n",
       "  /* fitted */\n",
       "  background-color: var(--sklearn-color-fitted-level-0);\n",
       "}\n",
       "\n",
       "#sk-container-id-2 div.sk-toggleable__content pre {\n",
       "  margin: 0.2em;\n",
       "  border-radius: 0.25em;\n",
       "  color: var(--sklearn-color-text);\n",
       "  /* unfitted */\n",
       "  background-color: var(--sklearn-color-unfitted-level-0);\n",
       "}\n",
       "\n",
       "#sk-container-id-2 div.sk-toggleable__content.fitted pre {\n",
       "  /* unfitted */\n",
       "  background-color: var(--sklearn-color-fitted-level-0);\n",
       "}\n",
       "\n",
       "#sk-container-id-2 input.sk-toggleable__control:checked~div.sk-toggleable__content {\n",
       "  /* Expand drop-down */\n",
       "  max-height: 200px;\n",
       "  max-width: 100%;\n",
       "  overflow: auto;\n",
       "}\n",
       "\n",
       "#sk-container-id-2 input.sk-toggleable__control:checked~label.sk-toggleable__label-arrow:before {\n",
       "  content: \"▾\";\n",
       "}\n",
       "\n",
       "/* Pipeline/ColumnTransformer-specific style */\n",
       "\n",
       "#sk-container-id-2 div.sk-label input.sk-toggleable__control:checked~label.sk-toggleable__label {\n",
       "  color: var(--sklearn-color-text);\n",
       "  background-color: var(--sklearn-color-unfitted-level-2);\n",
       "}\n",
       "\n",
       "#sk-container-id-2 div.sk-label.fitted input.sk-toggleable__control:checked~label.sk-toggleable__label {\n",
       "  background-color: var(--sklearn-color-fitted-level-2);\n",
       "}\n",
       "\n",
       "/* Estimator-specific style */\n",
       "\n",
       "/* Colorize estimator box */\n",
       "#sk-container-id-2 div.sk-estimator input.sk-toggleable__control:checked~label.sk-toggleable__label {\n",
       "  /* unfitted */\n",
       "  background-color: var(--sklearn-color-unfitted-level-2);\n",
       "}\n",
       "\n",
       "#sk-container-id-2 div.sk-estimator.fitted input.sk-toggleable__control:checked~label.sk-toggleable__label {\n",
       "  /* fitted */\n",
       "  background-color: var(--sklearn-color-fitted-level-2);\n",
       "}\n",
       "\n",
       "#sk-container-id-2 div.sk-label label.sk-toggleable__label,\n",
       "#sk-container-id-2 div.sk-label label {\n",
       "  /* The background is the default theme color */\n",
       "  color: var(--sklearn-color-text-on-default-background);\n",
       "}\n",
       "\n",
       "/* On hover, darken the color of the background */\n",
       "#sk-container-id-2 div.sk-label:hover label.sk-toggleable__label {\n",
       "  color: var(--sklearn-color-text);\n",
       "  background-color: var(--sklearn-color-unfitted-level-2);\n",
       "}\n",
       "\n",
       "/* Label box, darken color on hover, fitted */\n",
       "#sk-container-id-2 div.sk-label.fitted:hover label.sk-toggleable__label.fitted {\n",
       "  color: var(--sklearn-color-text);\n",
       "  background-color: var(--sklearn-color-fitted-level-2);\n",
       "}\n",
       "\n",
       "/* Estimator label */\n",
       "\n",
       "#sk-container-id-2 div.sk-label label {\n",
       "  font-family: monospace;\n",
       "  font-weight: bold;\n",
       "  display: inline-block;\n",
       "  line-height: 1.2em;\n",
       "}\n",
       "\n",
       "#sk-container-id-2 div.sk-label-container {\n",
       "  text-align: center;\n",
       "}\n",
       "\n",
       "/* Estimator-specific */\n",
       "#sk-container-id-2 div.sk-estimator {\n",
       "  font-family: monospace;\n",
       "  border: 1px dotted var(--sklearn-color-border-box);\n",
       "  border-radius: 0.25em;\n",
       "  box-sizing: border-box;\n",
       "  margin-bottom: 0.5em;\n",
       "  /* unfitted */\n",
       "  background-color: var(--sklearn-color-unfitted-level-0);\n",
       "}\n",
       "\n",
       "#sk-container-id-2 div.sk-estimator.fitted {\n",
       "  /* fitted */\n",
       "  background-color: var(--sklearn-color-fitted-level-0);\n",
       "}\n",
       "\n",
       "/* on hover */\n",
       "#sk-container-id-2 div.sk-estimator:hover {\n",
       "  /* unfitted */\n",
       "  background-color: var(--sklearn-color-unfitted-level-2);\n",
       "}\n",
       "\n",
       "#sk-container-id-2 div.sk-estimator.fitted:hover {\n",
       "  /* fitted */\n",
       "  background-color: var(--sklearn-color-fitted-level-2);\n",
       "}\n",
       "\n",
       "/* Specification for estimator info (e.g. \"i\" and \"?\") */\n",
       "\n",
       "/* Common style for \"i\" and \"?\" */\n",
       "\n",
       ".sk-estimator-doc-link,\n",
       "a:link.sk-estimator-doc-link,\n",
       "a:visited.sk-estimator-doc-link {\n",
       "  float: right;\n",
       "  font-size: smaller;\n",
       "  line-height: 1em;\n",
       "  font-family: monospace;\n",
       "  background-color: var(--sklearn-color-background);\n",
       "  border-radius: 1em;\n",
       "  height: 1em;\n",
       "  width: 1em;\n",
       "  text-decoration: none !important;\n",
       "  margin-left: 1ex;\n",
       "  /* unfitted */\n",
       "  border: var(--sklearn-color-unfitted-level-1) 1pt solid;\n",
       "  color: var(--sklearn-color-unfitted-level-1);\n",
       "}\n",
       "\n",
       ".sk-estimator-doc-link.fitted,\n",
       "a:link.sk-estimator-doc-link.fitted,\n",
       "a:visited.sk-estimator-doc-link.fitted {\n",
       "  /* fitted */\n",
       "  border: var(--sklearn-color-fitted-level-1) 1pt solid;\n",
       "  color: var(--sklearn-color-fitted-level-1);\n",
       "}\n",
       "\n",
       "/* On hover */\n",
       "div.sk-estimator:hover .sk-estimator-doc-link:hover,\n",
       ".sk-estimator-doc-link:hover,\n",
       "div.sk-label-container:hover .sk-estimator-doc-link:hover,\n",
       ".sk-estimator-doc-link:hover {\n",
       "  /* unfitted */\n",
       "  background-color: var(--sklearn-color-unfitted-level-3);\n",
       "  color: var(--sklearn-color-background);\n",
       "  text-decoration: none;\n",
       "}\n",
       "\n",
       "div.sk-estimator.fitted:hover .sk-estimator-doc-link.fitted:hover,\n",
       ".sk-estimator-doc-link.fitted:hover,\n",
       "div.sk-label-container:hover .sk-estimator-doc-link.fitted:hover,\n",
       ".sk-estimator-doc-link.fitted:hover {\n",
       "  /* fitted */\n",
       "  background-color: var(--sklearn-color-fitted-level-3);\n",
       "  color: var(--sklearn-color-background);\n",
       "  text-decoration: none;\n",
       "}\n",
       "\n",
       "/* Span, style for the box shown on hovering the info icon */\n",
       ".sk-estimator-doc-link span {\n",
       "  display: none;\n",
       "  z-index: 9999;\n",
       "  position: relative;\n",
       "  font-weight: normal;\n",
       "  right: .2ex;\n",
       "  padding: .5ex;\n",
       "  margin: .5ex;\n",
       "  width: min-content;\n",
       "  min-width: 20ex;\n",
       "  max-width: 50ex;\n",
       "  color: var(--sklearn-color-text);\n",
       "  box-shadow: 2pt 2pt 4pt #999;\n",
       "  /* unfitted */\n",
       "  background: var(--sklearn-color-unfitted-level-0);\n",
       "  border: .5pt solid var(--sklearn-color-unfitted-level-3);\n",
       "}\n",
       "\n",
       ".sk-estimator-doc-link.fitted span {\n",
       "  /* fitted */\n",
       "  background: var(--sklearn-color-fitted-level-0);\n",
       "  border: var(--sklearn-color-fitted-level-3);\n",
       "}\n",
       "\n",
       ".sk-estimator-doc-link:hover span {\n",
       "  display: block;\n",
       "}\n",
       "\n",
       "/* \"?\"-specific style due to the `<a>` HTML tag */\n",
       "\n",
       "#sk-container-id-2 a.estimator_doc_link {\n",
       "  float: right;\n",
       "  font-size: 1rem;\n",
       "  line-height: 1em;\n",
       "  font-family: monospace;\n",
       "  background-color: var(--sklearn-color-background);\n",
       "  border-radius: 1rem;\n",
       "  height: 1rem;\n",
       "  width: 1rem;\n",
       "  text-decoration: none;\n",
       "  /* unfitted */\n",
       "  color: var(--sklearn-color-unfitted-level-1);\n",
       "  border: var(--sklearn-color-unfitted-level-1) 1pt solid;\n",
       "}\n",
       "\n",
       "#sk-container-id-2 a.estimator_doc_link.fitted {\n",
       "  /* fitted */\n",
       "  border: var(--sklearn-color-fitted-level-1) 1pt solid;\n",
       "  color: var(--sklearn-color-fitted-level-1);\n",
       "}\n",
       "\n",
       "/* On hover */\n",
       "#sk-container-id-2 a.estimator_doc_link:hover {\n",
       "  /* unfitted */\n",
       "  background-color: var(--sklearn-color-unfitted-level-3);\n",
       "  color: var(--sklearn-color-background);\n",
       "  text-decoration: none;\n",
       "}\n",
       "\n",
       "#sk-container-id-2 a.estimator_doc_link.fitted:hover {\n",
       "  /* fitted */\n",
       "  background-color: var(--sklearn-color-fitted-level-3);\n",
       "}\n",
       "</style><div id=\"sk-container-id-2\" class=\"sk-top-container\"><div class=\"sk-text-repr-fallback\"><pre>KNeighborsClassifier()</pre><b>In a Jupyter environment, please rerun this cell to show the HTML representation or trust the notebook. <br />On GitHub, the HTML representation is unable to render, please try loading this page with nbviewer.org.</b></div><div class=\"sk-container\" hidden><div class=\"sk-item\"><div class=\"sk-estimator fitted sk-toggleable\"><input class=\"sk-toggleable__control sk-hidden--visually\" id=\"sk-estimator-id-2\" type=\"checkbox\" checked><label for=\"sk-estimator-id-2\" class=\"sk-toggleable__label fitted sk-toggleable__label-arrow fitted\">&nbsp;&nbsp;KNeighborsClassifier<a class=\"sk-estimator-doc-link fitted\" rel=\"noreferrer\" target=\"_blank\" href=\"https://scikit-learn.org/1.4/modules/generated/sklearn.neighbors.KNeighborsClassifier.html\">?<span>Documentation for KNeighborsClassifier</span></a><span class=\"sk-estimator-doc-link fitted\">i<span>Fitted</span></span></label><div class=\"sk-toggleable__content fitted\"><pre>KNeighborsClassifier()</pre></div> </div></div></div></div>"
      ],
      "text/plain": [
       "KNeighborsClassifier()"
      ]
     },
     "execution_count": 49,
     "metadata": {},
     "output_type": "execute_result"
    }
   ],
   "source": [
    "# KNN classifier as a first trial using Sk-learn\n",
    "from sklearn.neighbors import KNeighborsClassifier\n",
    "knn = KNeighborsClassifier(n_neighbors=5)\n",
    "knn.fit(X_train, y_train)"
   ]
  },
  {
   "cell_type": "code",
   "execution_count": 117,
   "metadata": {},
   "outputs": [
    {
     "name": "stdout",
     "output_type": "stream",
     "text": [
      "Accuracy: 0.9963315373151439\n",
      "Precision: 0.9961064430204493\n",
      "Recall: 0.9964867544197628\n",
      "F1 0.996293733300407\n"
     ]
    }
   ],
   "source": [
    "# Evaluate model with different metrics\n",
    "y_pred = knn.predict(X_test)\n",
    "\n",
    "accuracy = metrics.accuracy_score(y_test, y_pred)\n",
    "precision = metrics.precision_score(y_test, y_pred, average='macro')\n",
    "recall = metrics.recall_score(y_test, y_pred, average='macro')\n",
    "F1 = metrics.f1_score(y_test, y_pred, average='macro')\n",
    "print(\"Accuracy:\", accuracy)\n",
    "print(\"Precision:\", precision)\n",
    "print(\"Recall:\", recall)\n",
    "print(\"F1\", F1)\n"
   ]
  },
  {
   "cell_type": "markdown",
   "metadata": {},
   "source": [
    "## Approach 2 - Dense Neural Network"
   ]
  },
  {
   "cell_type": "code",
   "execution_count": 103,
   "metadata": {},
   "outputs": [],
   "source": [
    "# Using tensorflow for this model, dense layers with some dropout and regularization to prevent overfitting\n",
    "model1 = Sequential([\n",
    "        Dense(units=64, activation='relu', input_shape=(68,)),\n",
    "        Dense(units=128, activation='relu',\n",
    "            kernel_regularizer=keras.regularizers.l1_l2(0.03)),\n",
    "        Dropout(0.3), \n",
    "        Dense(units=128, activation='relu'),\n",
    "        Dense(units=64, activation='relu'),\n",
    "        Dense(units=32, activation='relu'),\n",
    "        Dense(units=16, activation='relu', \n",
    "            kernel_regularizer=keras.regularizers.l1_l2(0.01)),\n",
    "        # Dropout(0.3),\n",
    "        Dense(units=5, activation='softmax')\n",
    "])"
   ]
  },
  {
   "cell_type": "code",
   "execution_count": 104,
   "metadata": {},
   "outputs": [],
   "source": [
    "# Loss and optimizer\n",
    "from tensorflow.keras.losses import SparseCategoricalCrossentropy\n",
    "from tensorflow.keras.optimizers.legacy import Adam\n",
    "\n",
    "model1.compile(loss=SparseCategoricalCrossentropy(), optimizer=Adam(), metrics=[\"accuracy\"])"
   ]
  },
  {
   "cell_type": "code",
   "execution_count": 105,
   "metadata": {},
   "outputs": [],
   "source": [
    "# We will save the models with the best accuracy. This is done after each epoch\n",
    "checkpoint = tf.keras.callbacks.ModelCheckpoint(\n",
    "    \"checkpoints/DNN1.{epoch:02d}-{val_accuracy:.2f}\",\n",
    "    monitor='accuracy',\n",
    "    verbose=0,\n",
    "    save_best_only=True,\n",
    "    save_weights_only=False,\n",
    "    mode='auto',\n",
    "    #everytime the accuracy gets better, it saves\n",
    "    save_freq='epoch',\n",
    ")"
   ]
  },
  {
   "cell_type": "code",
   "execution_count": 106,
   "metadata": {},
   "outputs": [
    {
     "name": "stdout",
     "output_type": "stream",
     "text": [
      "Epoch 1/25\n",
      "804/818 [============================>.] - ETA: 0s - loss: 3.1891 - accuracy: 0.5250INFO:tensorflow:Assets written to: checkpoints/DNN1.01-0.71/assets\n"
     ]
    },
    {
     "name": "stderr",
     "output_type": "stream",
     "text": [
      "INFO:tensorflow:Assets written to: checkpoints/DNN1.01-0.71/assets\n"
     ]
    },
    {
     "name": "stdout",
     "output_type": "stream",
     "text": [
      "818/818 [==============================] - 2s 2ms/step - loss: 3.1543 - accuracy: 0.5272 - val_loss: 1.0316 - val_accuracy: 0.7125\n",
      "Epoch 2/25\n",
      "775/818 [===========================>..] - ETA: 0s - loss: 1.0009 - accuracy: 0.7084INFO:tensorflow:Assets written to: checkpoints/DNN1.02-0.75/assets\n"
     ]
    },
    {
     "name": "stderr",
     "output_type": "stream",
     "text": [
      "INFO:tensorflow:Assets written to: checkpoints/DNN1.02-0.75/assets\n"
     ]
    },
    {
     "name": "stdout",
     "output_type": "stream",
     "text": [
      "818/818 [==============================] - 1s 2ms/step - loss: 1.0000 - accuracy: 0.7086 - val_loss: 0.8822 - val_accuracy: 0.7509\n",
      "Epoch 3/25\n",
      "805/818 [============================>.] - ETA: 0s - loss: 0.9009 - accuracy: 0.7385INFO:tensorflow:Assets written to: checkpoints/DNN1.03-0.76/assets\n"
     ]
    },
    {
     "name": "stderr",
     "output_type": "stream",
     "text": [
      "INFO:tensorflow:Assets written to: checkpoints/DNN1.03-0.76/assets\n"
     ]
    },
    {
     "name": "stdout",
     "output_type": "stream",
     "text": [
      "818/818 [==============================] - 1s 2ms/step - loss: 0.8999 - accuracy: 0.7390 - val_loss: 0.8424 - val_accuracy: 0.7607\n",
      "Epoch 4/25\n",
      "770/818 [===========================>..] - ETA: 0s - loss: 0.8326 - accuracy: 0.7557INFO:tensorflow:Assets written to: checkpoints/DNN1.04-0.78/assets\n"
     ]
    },
    {
     "name": "stderr",
     "output_type": "stream",
     "text": [
      "INFO:tensorflow:Assets written to: checkpoints/DNN1.04-0.78/assets\n"
     ]
    },
    {
     "name": "stdout",
     "output_type": "stream",
     "text": [
      "818/818 [==============================] - 1s 2ms/step - loss: 0.8307 - accuracy: 0.7566 - val_loss: 0.7568 - val_accuracy: 0.7794\n",
      "Epoch 5/25\n",
      "809/818 [============================>.] - ETA: 0s - loss: 0.7866 - accuracy: 0.7715INFO:tensorflow:Assets written to: checkpoints/DNN1.05-0.79/assets\n"
     ]
    },
    {
     "name": "stderr",
     "output_type": "stream",
     "text": [
      "INFO:tensorflow:Assets written to: checkpoints/DNN1.05-0.79/assets\n"
     ]
    },
    {
     "name": "stdout",
     "output_type": "stream",
     "text": [
      "818/818 [==============================] - 1s 2ms/step - loss: 0.7867 - accuracy: 0.7712 - val_loss: 0.7349 - val_accuracy: 0.7875\n",
      "Epoch 6/25\n",
      "805/818 [============================>.] - ETA: 0s - loss: 0.7345 - accuracy: 0.7932INFO:tensorflow:Assets written to: checkpoints/DNN1.06-0.80/assets\n"
     ]
    },
    {
     "name": "stderr",
     "output_type": "stream",
     "text": [
      "INFO:tensorflow:Assets written to: checkpoints/DNN1.06-0.80/assets\n"
     ]
    },
    {
     "name": "stdout",
     "output_type": "stream",
     "text": [
      "818/818 [==============================] - 1s 2ms/step - loss: 0.7346 - accuracy: 0.7933 - val_loss: 0.6678 - val_accuracy: 0.8042\n",
      "Epoch 7/25\n",
      "778/818 [===========================>..] - ETA: 0s - loss: 0.7022 - accuracy: 0.8040INFO:tensorflow:Assets written to: checkpoints/DNN1.07-0.81/assets\n"
     ]
    },
    {
     "name": "stderr",
     "output_type": "stream",
     "text": [
      "INFO:tensorflow:Assets written to: checkpoints/DNN1.07-0.81/assets\n"
     ]
    },
    {
     "name": "stdout",
     "output_type": "stream",
     "text": [
      "818/818 [==============================] - 1s 2ms/step - loss: 0.7017 - accuracy: 0.8044 - val_loss: 0.6628 - val_accuracy: 0.8124\n",
      "Epoch 8/25\n",
      "802/818 [============================>.] - ETA: 0s - loss: 0.6621 - accuracy: 0.8252INFO:tensorflow:Assets written to: checkpoints/DNN1.08-0.87/assets\n"
     ]
    },
    {
     "name": "stderr",
     "output_type": "stream",
     "text": [
      "INFO:tensorflow:Assets written to: checkpoints/DNN1.08-0.87/assets\n"
     ]
    },
    {
     "name": "stdout",
     "output_type": "stream",
     "text": [
      "818/818 [==============================] - 1s 2ms/step - loss: 0.6618 - accuracy: 0.8254 - val_loss: 0.5722 - val_accuracy: 0.8716\n",
      "Epoch 9/25\n",
      "788/818 [===========================>..] - ETA: 0s - loss: 0.6304 - accuracy: 0.8396INFO:tensorflow:Assets written to: checkpoints/DNN1.09-0.88/assets\n"
     ]
    },
    {
     "name": "stderr",
     "output_type": "stream",
     "text": [
      "INFO:tensorflow:Assets written to: checkpoints/DNN1.09-0.88/assets\n"
     ]
    },
    {
     "name": "stdout",
     "output_type": "stream",
     "text": [
      "818/818 [==============================] - 1s 2ms/step - loss: 0.6294 - accuracy: 0.8399 - val_loss: 0.5291 - val_accuracy: 0.8838\n",
      "Epoch 10/25\n",
      "774/818 [===========================>..] - ETA: 0s - loss: 0.6089 - accuracy: 0.8474INFO:tensorflow:Assets written to: checkpoints/DNN1.10-0.88/assets\n"
     ]
    },
    {
     "name": "stderr",
     "output_type": "stream",
     "text": [
      "INFO:tensorflow:Assets written to: checkpoints/DNN1.10-0.88/assets\n"
     ]
    },
    {
     "name": "stdout",
     "output_type": "stream",
     "text": [
      "818/818 [==============================] - 1s 2ms/step - loss: 0.6065 - accuracy: 0.8483 - val_loss: 0.5335 - val_accuracy: 0.8777\n",
      "Epoch 11/25\n",
      "777/818 [===========================>..] - ETA: 0s - loss: 0.5790 - accuracy: 0.8550INFO:tensorflow:Assets written to: checkpoints/DNN1.11-0.89/assets\n"
     ]
    },
    {
     "name": "stderr",
     "output_type": "stream",
     "text": [
      "INFO:tensorflow:Assets written to: checkpoints/DNN1.11-0.89/assets\n"
     ]
    },
    {
     "name": "stdout",
     "output_type": "stream",
     "text": [
      "818/818 [==============================] - 1s 2ms/step - loss: 0.5795 - accuracy: 0.8549 - val_loss: 0.4919 - val_accuracy: 0.8933\n",
      "Epoch 12/25\n",
      "769/818 [===========================>..] - ETA: 0s - loss: 0.5560 - accuracy: 0.8646INFO:tensorflow:Assets written to: checkpoints/DNN1.12-0.89/assets\n"
     ]
    },
    {
     "name": "stderr",
     "output_type": "stream",
     "text": [
      "INFO:tensorflow:Assets written to: checkpoints/DNN1.12-0.89/assets\n"
     ]
    },
    {
     "name": "stdout",
     "output_type": "stream",
     "text": [
      "818/818 [==============================] - 1s 2ms/step - loss: 0.5560 - accuracy: 0.8646 - val_loss: 0.4807 - val_accuracy: 0.8945\n",
      "Epoch 13/25\n",
      "783/818 [===========================>..] - ETA: 0s - loss: 0.5469 - accuracy: 0.8680INFO:tensorflow:Assets written to: checkpoints/DNN1.13-0.88/assets\n"
     ]
    },
    {
     "name": "stderr",
     "output_type": "stream",
     "text": [
      "INFO:tensorflow:Assets written to: checkpoints/DNN1.13-0.88/assets\n"
     ]
    },
    {
     "name": "stdout",
     "output_type": "stream",
     "text": [
      "818/818 [==============================] - 1s 2ms/step - loss: 0.5456 - accuracy: 0.8684 - val_loss: 0.4901 - val_accuracy: 0.8824\n",
      "Epoch 14/25\n",
      "780/818 [===========================>..] - ETA: 0s - loss: 0.5382 - accuracy: 0.8712INFO:tensorflow:Assets written to: checkpoints/DNN1.14-0.91/assets\n"
     ]
    },
    {
     "name": "stderr",
     "output_type": "stream",
     "text": [
      "INFO:tensorflow:Assets written to: checkpoints/DNN1.14-0.91/assets\n"
     ]
    },
    {
     "name": "stdout",
     "output_type": "stream",
     "text": [
      "818/818 [==============================] - 1s 2ms/step - loss: 0.5373 - accuracy: 0.8717 - val_loss: 0.4530 - val_accuracy: 0.9060\n",
      "Epoch 15/25\n",
      "813/818 [============================>.] - ETA: 0s - loss: 0.5229 - accuracy: 0.8757INFO:tensorflow:Assets written to: checkpoints/DNN1.15-0.90/assets\n"
     ]
    },
    {
     "name": "stderr",
     "output_type": "stream",
     "text": [
      "INFO:tensorflow:Assets written to: checkpoints/DNN1.15-0.90/assets\n"
     ]
    },
    {
     "name": "stdout",
     "output_type": "stream",
     "text": [
      "818/818 [==============================] - 1s 2ms/step - loss: 0.5232 - accuracy: 0.8756 - val_loss: 0.4409 - val_accuracy: 0.9027\n",
      "Epoch 16/25\n",
      "768/818 [===========================>..] - ETA: 0s - loss: 0.5090 - accuracy: 0.8790INFO:tensorflow:Assets written to: checkpoints/DNN1.16-0.87/assets\n"
     ]
    },
    {
     "name": "stderr",
     "output_type": "stream",
     "text": [
      "INFO:tensorflow:Assets written to: checkpoints/DNN1.16-0.87/assets\n"
     ]
    },
    {
     "name": "stdout",
     "output_type": "stream",
     "text": [
      "818/818 [==============================] - 1s 2ms/step - loss: 0.5081 - accuracy: 0.8793 - val_loss: 0.5021 - val_accuracy: 0.8666\n",
      "Epoch 17/25\n",
      "818/818 [==============================] - 1s 1ms/step - loss: 0.5026 - accuracy: 0.8785 - val_loss: 0.4273 - val_accuracy: 0.9052\n",
      "Epoch 18/25\n",
      "774/818 [===========================>..] - ETA: 0s - loss: 0.4977 - accuracy: 0.8800INFO:tensorflow:Assets written to: checkpoints/DNN1.18-0.92/assets\n"
     ]
    },
    {
     "name": "stderr",
     "output_type": "stream",
     "text": [
      "INFO:tensorflow:Assets written to: checkpoints/DNN1.18-0.92/assets\n"
     ]
    },
    {
     "name": "stdout",
     "output_type": "stream",
     "text": [
      "818/818 [==============================] - 1s 2ms/step - loss: 0.4993 - accuracy: 0.8799 - val_loss: 0.4126 - val_accuracy: 0.9158\n",
      "Epoch 19/25\n",
      "769/818 [===========================>..] - ETA: 0s - loss: 0.4953 - accuracy: 0.8814INFO:tensorflow:Assets written to: checkpoints/DNN1.19-0.91/assets\n"
     ]
    },
    {
     "name": "stderr",
     "output_type": "stream",
     "text": [
      "INFO:tensorflow:Assets written to: checkpoints/DNN1.19-0.91/assets\n"
     ]
    },
    {
     "name": "stdout",
     "output_type": "stream",
     "text": [
      "818/818 [==============================] - 1s 2ms/step - loss: 0.4965 - accuracy: 0.8809 - val_loss: 0.4087 - val_accuracy: 0.9125\n",
      "Epoch 20/25\n",
      "770/818 [===========================>..] - ETA: 0s - loss: 0.4837 - accuracy: 0.8839INFO:tensorflow:Assets written to: checkpoints/DNN1.20-0.92/assets\n"
     ]
    },
    {
     "name": "stderr",
     "output_type": "stream",
     "text": [
      "INFO:tensorflow:Assets written to: checkpoints/DNN1.20-0.92/assets\n"
     ]
    },
    {
     "name": "stdout",
     "output_type": "stream",
     "text": [
      "818/818 [==============================] - 1s 2ms/step - loss: 0.4825 - accuracy: 0.8845 - val_loss: 0.3964 - val_accuracy: 0.9199\n",
      "Epoch 21/25\n",
      "792/818 [============================>.] - ETA: 0s - loss: 0.4804 - accuracy: 0.8857INFO:tensorflow:Assets written to: checkpoints/DNN1.21-0.92/assets\n"
     ]
    },
    {
     "name": "stderr",
     "output_type": "stream",
     "text": [
      "INFO:tensorflow:Assets written to: checkpoints/DNN1.21-0.92/assets\n"
     ]
    },
    {
     "name": "stdout",
     "output_type": "stream",
     "text": [
      "818/818 [==============================] - 1s 2ms/step - loss: 0.4805 - accuracy: 0.8855 - val_loss: 0.3776 - val_accuracy: 0.9223\n",
      "Epoch 22/25\n",
      "818/818 [==============================] - 1s 1ms/step - loss: 0.4865 - accuracy: 0.8828 - val_loss: 0.4149 - val_accuracy: 0.9069\n",
      "Epoch 23/25\n",
      "818/818 [==============================] - 1s 1ms/step - loss: 0.4786 - accuracy: 0.8849 - val_loss: 0.3919 - val_accuracy: 0.9136\n",
      "Epoch 24/25\n",
      "796/818 [============================>.] - ETA: 0s - loss: 0.4687 - accuracy: 0.8875INFO:tensorflow:Assets written to: checkpoints/DNN1.24-0.92/assets\n"
     ]
    },
    {
     "name": "stderr",
     "output_type": "stream",
     "text": [
      "INFO:tensorflow:Assets written to: checkpoints/DNN1.24-0.92/assets\n"
     ]
    },
    {
     "name": "stdout",
     "output_type": "stream",
     "text": [
      "818/818 [==============================] - 1s 2ms/step - loss: 0.4687 - accuracy: 0.8876 - val_loss: 0.3680 - val_accuracy: 0.9239\n",
      "Epoch 25/25\n",
      "818/818 [==============================] - 1s 1ms/step - loss: 0.4778 - accuracy: 0.8837 - val_loss: 0.3690 - val_accuracy: 0.9248\n"
     ]
    }
   ],
   "source": [
    "history = model1.fit(X_train,y_train, epochs=25, batch_size=64, validation_data=(X_test,y_test), callbacks=[checkpoint])  \n",
    "# N.B. I could have further split my data to include validation_data=(X_val,y_val) and a seperate test dataset to have a cross-validation set"
   ]
  },
  {
   "cell_type": "code",
   "execution_count": 107,
   "metadata": {},
   "outputs": [
    {
     "name": "stdout",
     "output_type": "stream",
     "text": [
      "  1/546 [..............................] - ETA: 7s - loss: 0.3978 - accuracy: 0.9062"
     ]
    },
    {
     "name": "stdout",
     "output_type": "stream",
     "text": [
      "546/546 [==============================] - 0s 476us/step - loss: 0.3690 - accuracy: 0.9248\n"
     ]
    },
    {
     "data": {
      "text/plain": [
       "[0.3690263628959656, 0.9247965216636658]"
      ]
     },
     "execution_count": 107,
     "metadata": {},
     "output_type": "execute_result"
    }
   ],
   "source": [
    "model1.evaluate(X_test,y_test)"
   ]
  },
  {
   "cell_type": "code",
   "execution_count": 108,
   "metadata": {},
   "outputs": [
    {
     "name": "stdout",
     "output_type": "stream",
     "text": [
      "546/546 [==============================] - 0s 367us/step\n",
      "              precision    recall  f1-score   support\n",
      "\n",
      "           0       0.87      0.91      0.89      2104\n",
      "           1       0.88      0.90      0.89      3343\n",
      "           2       0.94      0.87      0.90      3765\n",
      "           3       0.95      0.97      0.96      4138\n",
      "           4       0.95      0.95      0.95      4096\n",
      "\n",
      "    accuracy                           0.92     17446\n",
      "   macro avg       0.92      0.92      0.92     17446\n",
      "weighted avg       0.93      0.92      0.92     17446\n",
      "\n"
     ]
    }
   ],
   "source": [
    "# Get more information about metrics - I also could have used a confusion matrix to better visualize the data\n",
    "y_pred = model1.predict(X_test)\n",
    "y_pred_classes = np.argmax(y_pred, axis=1)  # Assuming your model outputs probabilities per class\n",
    "y_pred_classes\n",
    "print(metrics.classification_report(y_test, y_pred_classes)) # From Sk-learn"
   ]
  },
  {
   "cell_type": "code",
   "execution_count": 110,
   "metadata": {},
   "outputs": [
    {
     "data": {
      "image/png": "[encoded data removed]",
      "text/plain": [
       "<Figure size 640x480 with 1 Axes>"
      ]
     },
     "metadata": {},
     "output_type": "display_data"
    }
   ],
   "source": [
    "# Plotting - images saved in results directory\n",
    "from matplotlib import pyplot as plt\n",
    "plt.plot(history.history['accuracy'])\n",
    "plt.plot(history.history['val_accuracy'])\n",
    "plt.title('model accuracy')\n",
    "plt.ylabel('accuracy')\n",
    "plt.xlabel('epoch')\n",
    "plt.legend(['train', 'val'], loc='upper left')\n",
    "plt.savefig('results/model1_5_positions_accuracy.png')\n",
    "plt.show()"
   ]
  },
  {
   "cell_type": "code",
   "execution_count": 111,
   "metadata": {},
   "outputs": [
    {
     "data": {
      "image/png": "[encoded data removed]",
      "text/plain": [
       "<Figure size 640x480 with 1 Axes>"
      ]
     },
     "metadata": {},
     "output_type": "display_data"
    }
   ],
   "source": [
    "plt.plot(history.history['loss'])\n",
    "plt.plot(history.history['val_loss'])\n",
    "plt.title('model loss')\n",
    "plt.ylabel('loss')\n",
    "plt.xlabel('epoch')\n",
    "plt.legend(['train', 'val'], loc='upper left')\n",
    "plt.savefig('results/model1_5_positions_loss.png')\n",
    "plt.show()"
   ]
  },
  {
   "cell_type": "markdown",
   "metadata": {},
   "source": [
    "# Approach 3 - LSTMs and Time Series Data with Dynamic Time Warping"
   ]
  },
  {
   "cell_type": "markdown",
   "metadata": {},
   "source": [
    "Since we have access to the frame number in each entry of our dataset, we can use this information as well as the name of the position to create a time series dataset. A sequence of consecutive frames for the same position will be a time series."
   ]
  },
  {
   "cell_type": "markdown",
   "metadata": {},
   "source": [
    "After that, we can train our data on a LSTM model, but before we will make sure that there is some form of masking or padding."
   ]
  },
  {
   "cell_type": "markdown",
   "metadata": {},
   "source": [
    "This is a more efficient strategy to implement if we were to use the model on analyzing videos, since BJJ positions can involve motion, and and LSTM would be a good fit to track such motion "
   ]
  },
  {
   "cell_type": "markdown",
   "metadata": {},
   "source": [
    "Additionally, for preprocessing, we could also apply Dynamic Time Warping, which is an algorithm used to measure the similarity between two temporal sequences which may vary in time or speed. It can be useful for time-series data, especially when dealing with sequences of varying lengths or speeds."
   ]
  },
  {
   "cell_type": "markdown",
   "metadata": {},
   "source": [
    "### Applications:\n",
    "\n",
    "<b>Sequence Alignment:</b> In datasets where the sequences are not perfectly aligned in time, DTW can help by aligning them based on their shape and pattern.\n",
    "<br>\n",
    "<br>\n",
    "<b>Feature Engineering:</b> DTW can be used to create new features. For example, the DTW distance between a given sequence and some reference sequence can be a powerful feature that encodes the similarity of that sequence to a known pattern (e.g. a master of BJJ could be the reference)."
   ]
  }
 ],
 "metadata": {
  "kernelspec": {
   "display_name": "adanomad_oa_env",
   "language": "python",
   "name": "python3"
  },
  "language_info": {
   "codemirror_mode": {
    "name": "ipython",
    "version": 3
   },
   "file_extension": ".py",
   "mimetype": "text/x-python",
   "name": "python",
   "nbconvert_exporter": "python",
   "pygments_lexer": "ipython3",
   "version": "3.10.13"
  }
 },
 "nbformat": 4,
 "nbformat_minor": 2
}
