{
 "cells": [
  {
   "cell_type": "code",
   "execution_count": 2,
   "metadata": {},
   "outputs": [],
   "source": [
    "import json\n",
    "import numpy as np\n",
    "import matplotlib.pyplot as plt\n"
   ]
  },
  {
   "cell_type": "markdown",
   "metadata": {},
   "source": [
    "## Format of our data\n",
    "\n",
    "Our data is a JSON file that contains entries for each frame of a video (or multiple videos). Each entry contains the following fields:<br>\n",
    "    \"position\": name of the position (our label data)<br>\n",
    "    \"image\": an image id (not relevant for us)<br>\n",
    "    \"frame\": the frame number (not relevant for us)<br>\n",
    "    \"pose1\": the coordinates of person1<br>\n",
    "    \"pose2\": the coordinates of person2<br>\n",
    "Sometimes pose1 or pose2 could be missing, but at least one of them is present"
   ]
  },
  {
   "cell_type": "code",
   "execution_count": 3,
   "metadata": {},
   "outputs": [],
   "source": [
    "# Global variables\n",
    "json_file = 'annotations.json'\n",
    "final_json_file = 'final_data.json'"
   ]
  },
  {
   "cell_type": "markdown",
   "metadata": {},
   "source": []
  },
  {
   "cell_type": "code",
   "execution_count": 4,
   "metadata": {},
   "outputs": [],
   "source": [
    "# Load JSON File\n",
    "def process_json_file(json_file):\n",
    "    with open(json_file, 'r') as file:\n",
    "        data = json.load(file)\n",
    "        return data"
   ]
  },
  {
   "cell_type": "code",
   "execution_count": null,
   "metadata": {},
   "outputs": [],
   "source": []
  },
  {
   "cell_type": "markdown",
   "metadata": {},
   "source": [
    "## Visualize the data"
   ]
  },
  {
   "cell_type": "code",
   "execution_count": 5,
   "metadata": {},
   "outputs": [
    {
     "data": {
      "image/png": "[encoded data removed]",
      "text/plain": [
       "<Figure size 640x480 with 1 Axes>"
      ]
     },
     "metadata": {},
     "output_type": "display_data"
    }
   ],
   "source": [
    "# Demo of an open guard position in test.json (contains some dummy entries)\n",
    "data = process_json_file('test.json')[0]\n",
    "\n",
    "\n",
    "# Extract 'pose2' data\n",
    "pose2_data = data['pose2']\n",
    "\n",
    "# Convert to NumPy array\n",
    "pose2_array = np.array(pose2_data)\n",
    "\n",
    "# Extract X and Y coordinates\n",
    "x_coordinates = pose2_array[:, 0]\n",
    "y_coordinates = pose2_array[:, 1]\n",
    "\n",
    "# Create a scatter plot\n",
    "plt.scatter(x_coordinates, y_coordinates)\n",
    "\n",
    "# Add labels and title\n",
    "plt.xlabel('X Coordinate')\n",
    "plt.ylabel('Y Coordinate')\n",
    "plt.title('Pose Visualization')\n",
    "\n",
    "plt.show()"
   ]
  },
  {
   "cell_type": "code",
   "execution_count": 9,
   "metadata": {},
   "outputs": [],
   "source": [
    "# For this challenge, I will train a model on 5 different classes (I will take the classes that have the most entries)\n",
    "\n",
    "classes = [\"standing\", \"open_guard1\", \"open_guard2\", \"takedown1\", \"takedown2\",\"half_guard1\", \"half_guard2\", \"closed_guard1\", \"closed_guard2\", \"5050_guard\", \"side_control1\",  \"side_control2\", \"mount1\", \"mount2\", \"back1\", \"back2\", \"turtle1\", \"turtle2\"]\n",
    "count = {cls: 0 for cls in classes}"
   ]
  },
  {
   "cell_type": "code",
   "execution_count": 30,
   "metadata": {},
   "outputs": [],
   "source": [
    "def getCount(filename, count):\n",
    "    data = process_json_file(filename)\n",
    "    for entry in data:\n",
    "        label = entry['position']\n",
    "        count[label] += 1\n",
    "    return count\n",
    "\n",
    "count = getCount('annotations.json', count)"
   ]
  },
  {
   "cell_type": "code",
   "execution_count": 37,
   "metadata": {},
   "outputs": [
    {
     "data": {
      "text/plain": [
       "{'standing': 16723,\n",
       " 'open_guard1': 7884,\n",
       " 'open_guard2': 7355,\n",
       " 'takedown1': 2618,\n",
       " 'takedown2': 2586,\n",
       " 'half_guard1': 4697,\n",
       " 'half_guard2': 5904,\n",
       " 'closed_guard1': 6136,\n",
       " 'closed_guard2': 5560,\n",
       " '5050_guard': 8453,\n",
       " 'side_control1': 6055,\n",
       " 'side_control2': 5205,\n",
       " 'mount1': 5943,\n",
       " 'mount2': 5794,\n",
       " 'back1': 7063,\n",
       " 'back2': 6156,\n",
       " 'turtle1': 8536,\n",
       " 'turtle2': 7613}"
      ]
     },
     "execution_count": 37,
     "metadata": {},
     "output_type": "execute_result"
    }
   ],
   "source": [
    "count"
   ]
  },
  {
   "cell_type": "code",
   "execution_count": 48,
   "metadata": {},
   "outputs": [
    {
     "data": {
      "text/plain": [
       "{'5050_guard',\n",
       " 'back1',\n",
       " 'back2',\n",
       " 'open_guard1',\n",
       " 'open_guard2',\n",
       " 'standing',\n",
       " 'turtle1',\n",
       " 'turtle2'}"
      ]
     },
     "execution_count": 48,
     "metadata": {},
     "output_type": "execute_result"
    }
   ],
   "source": [
    "# I will take the most frequent positions to simplify the process\n",
    "sortedPosn = sorted(count.items(), key=lambda item: item[1])\n",
    "positions_to_keep = sortedPosn[-8:]\n",
    "final_classes = {name for name, _ in positions_to_keep}\n",
    "final_classes"
   ]
  },
  {
   "cell_type": "code",
   "execution_count": 49,
   "metadata": {},
   "outputs": [],
   "source": [
    "# We will make a new json file containing only the classes mentioned above\n",
    "def make_new_json_file_with_relevant_data(filename, final_classes, new_filename):\n",
    "    data = process_json_file(filename)\n",
    "    filtered_data = [entry for entry in data if entry['position'] in final_classes]\n",
    "    with open(new_filename, 'w') as file:\n",
    "        json.dump(filtered_data, file, indent=4)\n",
    "    print(\"Data dump to new file successful\")"
   ]
  },
  {
   "cell_type": "code",
   "execution_count": 52,
   "metadata": {},
   "outputs": [
    {
     "name": "stdout",
     "output_type": "stream",
     "text": [
      "Data dump to new file successful\n"
     ]
    }
   ],
   "source": [
    "make_new_json_file_with_relevant_data(json_file, final_classes, \"final_data.json\")\n"
   ]
  },
  {
   "cell_type": "code",
   "execution_count": 56,
   "metadata": {},
   "outputs": [],
   "source": [
    "# Check for inconsistencies in the data \n",
    "def get_shape_of_data(filename):\n",
    "    data = process_json_file(filename)\n",
    "    shapes = []\n",
    "    for entry in data:\n",
    "        if 'pose1' in entry:\n",
    "            shape1 = len(entry['pose1'])\n",
    "            if (shape1 not in shapes):\n",
    "                shapes.append(shape1)\n",
    "        if 'pose2' in entry:\n",
    "            shape2 = len(entry['pose2'])\n",
    "            if (shape2 not in shapes):\n",
    "                shapes.append(shape2)\n",
    "    return shapes"
   ]
  },
  {
   "cell_type": "code",
   "execution_count": 10,
   "metadata": {},
   "outputs": [
    {
     "ename": "NameError",
     "evalue": "name 'get_shape_of_data' is not defined",
     "output_type": "error",
     "traceback": [
      "\u001b[0;31m---------------------------------------------------------------------------\u001b[0m",
      "\u001b[0;31mNameError\u001b[0m                                 Traceback (most recent call last)",
      "Cell \u001b[0;32mIn[10], line 1\u001b[0m\n\u001b[0;32m----> 1\u001b[0m \u001b[43mget_shape_of_data\u001b[49m(final_json_file)\n\u001b[1;32m      2\u001b[0m \u001b[38;5;66;03m# Output is 17, as expected, since each frame should have 17 landmarks, as indicated in the MS-COCO Pose Estimation Documentation\u001b[39;00m\n\u001b[1;32m      3\u001b[0m \u001b[38;5;66;03m# So no inconsistencies in the data, we can proceed to the next step\u001b[39;00m\n",
      "\u001b[0;31mNameError\u001b[0m: name 'get_shape_of_data' is not defined"
     ]
    }
   ],
   "source": [
    "get_shape_of_data(final_json_file)\n",
    "# Output is 17, as expected, since each frame should have 17 landmarks, as indicated in the MS-COCO Pose Estimation Documentation\n",
    "# So no inconsistencies in the data, we can proceed to the next step"
   ]
  },
  {
   "cell_type": "code",
   "execution_count": null,
   "metadata": {},
   "outputs": [
    {
     "ename": "",
     "evalue": "",
     "output_type": "error",
     "traceback": [
      "\u001b[1;31mRunning cells with '/opt/homebrew/bin/python3' requires the ipykernel package.\n",
      "\u001b[1;31mRun the following command to install 'ipykernel' into the Python environment. \n",
      "\u001b[1;31mCommand: '/opt/homebrew/bin/python3 -m pip install ipykernel -U --user --force-reinstall'"
     ]
    }
   ],
   "source": [
    "# In our input data, we are given, for each entry, either pose1 and/or pose2\n",
    "# To make the data uniform and to facilitate the training using a Dense Neural Network, we will combine both entries into a single one\n",
    "# To determine which array (pose1 or pose2) will be stacked on top of our new array (called pose), we will check if the position name ends with a string and match the format of the array to that, otherwise default to pose1 going on top\n",
    "# If either pose1 or pose2 is missing, then we will create an array of zeroes of shape (17, 3) for padding (and stack it at the bottom)\n",
    "def format_landmarks(entry):\n",
    "    list_17x3 = [[0 for _ in range(3)] for _ in range(17)]\n",
    "    posName = entry[\"position\"]\n",
    "    if posName.endswith(\"2\"):\n",
    "        if 'pose2' in entry:\n",
    "            pose = entry[\"pose2\"]\n",
    "            if 'pose1' in entry:\n",
    "                pose.extend(entry[\"pose1\"])\n",
    "            else:\n",
    "                pose.extend(list_17x3)\n",
    "        else:\n",
    "            pose = list_17x3\n",
    "            pose.extend(entry[\"pose1\"])\n",
    "    else:\n",
    "        if 'pose1' in entry:\n",
    "            pose = entry[\"pose1\"]\n",
    "            if 'pose2' in entry:\n",
    "                pose.extend(entry[\"pose2\"])\n",
    "            else:\n",
    "                pose.extend(list_17x3)\n",
    "        else:\n",
    "            pose = list_17x3\n",
    "            pose.extend(entry[\"pose2\"])\n",
    "    entry[\"pose\"] = pose\n",
    "    entry.pop(\"pose1\", None)\n",
    "    entry.pop(\"pose2\", None)\n",
    "    return entry\n",
    "\n",
    "def create_formatted_file(filename):\n",
    "    with open(filename, 'r') as file:\n",
    "        data = json.load(file)\n",
    "    formatted_data = [format_landmarks(entry) for entry in data]\n",
    "    with open('formatted_data.json', 'w') as file:\n",
    "        json.dump(formatted_data, file)\n",
    "create_formatted_file(final_json_file)"
   ]
  },
  {
   "cell_type": "code",
   "execution_count": 6,
   "metadata": {},
   "outputs": [],
   "source": [
    "# Last aspect of the preprocessing: reformat the labels for training: since our task is to simply identify the movement, we do not need to differentiate between movement1 and movement2, like the dataset did\n",
    "# Thus, we will merge both labels into one\n",
    "# This will also allow a better balancing in the dataset (so each label has about the same amount of data), therefore decreasing the chances of overfitting\n",
    "labels = ['5050_guard',\n",
    " 'back1',\n",
    " 'back2',\n",
    " 'open_guard1',\n",
    " 'open_guard2',\n",
    " 'standing',\n",
    " 'turtle1',\n",
    " 'turtle2']\n",
    "def change_label(entry):\n",
    "    if entry['position'] in ['open_guard1', 'open_guard2']:\n",
    "        entry['position'] = 'open_guard'\n",
    "    elif entry['position'] in ['back1', 'back2']:\n",
    "        entry['position'] = 'back'\n",
    "    elif entry['position'] in ['turtle1', 'turtle2']:\n",
    "        entry['position'] = 'turtle'\n",
    "    return entry\n",
    "    \n",
    "def process_labels(filename):\n",
    "    with open(filename, 'r') as file:\n",
    "        data = json.load(file)\n",
    "    processed_data = [change_label(entry) for entry in data]\n",
    "    with open(filename, 'w') as file:\n",
    "        json.dump(processed_data, file)\n",
    "\n",
    "process_labels('formatted_data.json')\n",
    "    \n"
   ]
  },
  {
   "cell_type": "code",
   "execution_count": 7,
   "metadata": {},
   "outputs": [
    {
     "data": {
      "text/plain": [
       "{'standing': 16723,\n",
       " 'open_guard': 15239,\n",
       " '5050_guard': 8454,\n",
       " 'turtle': 16150,\n",
       " 'back': 13220}"
      ]
     },
     "execution_count": 7,
     "metadata": {},
     "output_type": "execute_result"
    }
   ],
   "source": [
    "count = {}\n",
    "def getCount(filename, count):\n",
    "    data = process_json_file(filename)\n",
    "    for entry in data:\n",
    "        label = entry['position']\n",
    "        if label not in count:\n",
    "            count[label] = 1\n",
    "        count[label] += 1\n",
    "    return count\n",
    "\n",
    "getCount('formatted_data.json', count)\n",
    "# From the output, the dataset is overall well-balanced, although the '5050_guard' is under-represented. We could use a random oversampling technique to improve balance"
   ]
  }
 ],
 "metadata": {
  "kernelspec": {
   "display_name": "adanomad_oa_env",
   "language": "python",
   "name": "python3"
  },
  "language_info": {
   "codemirror_mode": {
    "name": "ipython",
    "version": 3
   },
   "file_extension": ".py",
   "mimetype": "text/x-python",
   "name": "python",
   "nbconvert_exporter": "python",
   "pygments_lexer": "ipython3",
   "version": "3.10.13"
  }
 },
 "nbformat": 4,
 "nbformat_minor": 2
}
