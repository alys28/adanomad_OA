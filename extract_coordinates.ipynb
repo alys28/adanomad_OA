{
 "cells": [
  {
   "cell_type": "code",
   "execution_count": 1,
   "metadata": {},
   "outputs": [
    {
     "name": "stdout",
     "output_type": "stream",
     "text": [
      "\n",
      "image 1/1 /Users/aly/Documents/Programming/Random Programming Stuff/Adanomad OA/BJJ-Open-Guard.jpg: 448x640 2 persons, 98.6ms\n",
      "Speed: 4.0ms preprocess, 98.6ms inference, 9.1ms postprocess per image at shape (1, 3, 448, 640)\n",
      "Results saved to \u001b[1mruns/pose/predict\u001b[0m\n"
     ]
    },
    {
     "data": {
      "text/plain": [
       "[ultralytics.engine.results.Results object with attributes:\n",
       " \n",
       " boxes: ultralytics.engine.results.Boxes object\n",
       " keypoints: ultralytics.engine.results.Keypoints object\n",
       " masks: None\n",
       " names: {0: 'person'}\n",
       " obb: None\n",
       " orig_img: array([[[ 39,  30,  26],\n",
       "         [ 42,  33,  29],\n",
       "         [ 45,  36,  33],\n",
       "         ...,\n",
       "         [180, 172, 165],\n",
       "         [180, 172, 165],\n",
       "         [181, 173, 166]],\n",
       " \n",
       "        [[ 38,  29,  25],\n",
       "         [ 41,  32,  28],\n",
       "         [ 44,  35,  32],\n",
       "         ...,\n",
       "         [180, 172, 165],\n",
       "         [181, 173, 166],\n",
       "         [181, 173, 166]],\n",
       " \n",
       "        [[ 38,  29,  25],\n",
       "         [ 41,  32,  28],\n",
       "         [ 44,  35,  32],\n",
       "         ...,\n",
       "         [180, 172, 165],\n",
       "         [181, 173, 166],\n",
       "         [182, 174, 167]],\n",
       " \n",
       "        ...,\n",
       " \n",
       "        [[134, 120, 114],\n",
       "         [136, 122, 116],\n",
       "         [137, 123, 117],\n",
       "         ...,\n",
       "         [178, 162, 155],\n",
       "         [178, 162, 155],\n",
       "         [178, 162, 155]],\n",
       " \n",
       "        [[134, 120, 114],\n",
       "         [135, 121, 115],\n",
       "         [136, 122, 116],\n",
       "         ...,\n",
       "         [178, 162, 155],\n",
       "         [178, 162, 155],\n",
       "         [178, 162, 155]],\n",
       " \n",
       "        [[134, 120, 114],\n",
       "         [135, 121, 115],\n",
       "         [135, 121, 115],\n",
       "         ...,\n",
       "         [177, 161, 154],\n",
       "         [177, 161, 154],\n",
       "         [177, 161, 154]]], dtype=uint8)\n",
       " orig_shape: (560, 828)\n",
       " path: '/Users/aly/Documents/Programming/Random Programming Stuff/Adanomad OA/BJJ-Open-Guard.jpg'\n",
       " probs: None\n",
       " save_dir: 'runs/pose/predict'\n",
       " speed: {'preprocess': 4.016876220703125, 'inference': 98.64497184753418, 'postprocess': 9.081125259399414}]"
      ]
     },
     "execution_count": 1,
     "metadata": {},
     "output_type": "execute_result"
    }
   ],
   "source": [
    "from ultralytics import YOLO\n",
    "\n",
    "model = YOLO('yolov8n-pose.pt')\n",
    "imgsz = 640\n",
    "src = \"BJJ-Open-Guard.jpg\"\n",
    "results = model.predict(src, imgsz=imgsz, save=True, conf = 0.5)\n",
    "results"
   ]
  },
  {
   "cell_type": "code",
   "execution_count": 20,
   "metadata": {},
   "outputs": [
    {
     "data": {
      "text/plain": [
       "(68, 1)"
      ]
     },
     "execution_count": 20,
     "metadata": {},
     "output_type": "execute_result"
    }
   ],
   "source": [
    "array = results[0].keypoints.data.numpy()\n",
    "flattened_array = array.reshape(-1, 3)\n",
    "sliced_array = flattened_array[:, :2]  # This will create a (34, 2) shaped array\n",
    "\n",
    "#Flatten the sliced array to a 1-dimensional array\n",
    "one_d_array = sliced_array.flatten()\n",
    "one_d_array\n",
    "reshaped_array = one_d_array.reshape(-1, 1)\n",
    "reshaped_array.shape"
   ]
  },
  {
   "cell_type": "code",
   "execution_count": null,
   "metadata": {},
   "outputs": [],
   "source": [
    "# Run inference - Does not currently work\n",
    "import tensorflow as tf\n",
    "import numpy as np\n",
    "checkpoint_path = \"checkpoints/DNN1.24-0.92\"\n",
    "model = tf.keras.models.load_model(checkpoint_path)\n",
    "preds = model.predict(reshaped_array)\n",
    "pred_value = np.argmax(preds)\n"
   ]
  },
  {
   "cell_type": "code",
   "execution_count": null,
   "metadata": {},
   "outputs": [],
   "source": []
  }
 ],
 "metadata": {
  "kernelspec": {
   "display_name": "adanomad_oa_env",
   "language": "python",
   "name": "python3"
  },
  "language_info": {
   "codemirror_mode": {
    "name": "ipython",
    "version": 3
   },
   "file_extension": ".py",
   "mimetype": "text/x-python",
   "name": "python",
   "nbconvert_exporter": "python",
   "pygments_lexer": "ipython3",
   "version": "3.10.13"
  }
 },
 "nbformat": 4,
 "nbformat_minor": 2
}
